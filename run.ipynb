{
 "cells": [
  {
   "cell_type": "code",
   "execution_count": null,
   "id": "27b25e32",
   "metadata": {},
   "outputs": [],
   "source": [
    "!git clone https://github.com/mikolaura/gpt.git"
   ]
  },
  {
   "cell_type": "code",
   "execution_count": null,
   "id": "6b58e2a6",
   "metadata": {},
   "outputs": [],
   "source": [
    "!torchrun --standalone --nproc_per_node=2 gpt/train_gpt2.py"
   ]
  }
 ],
 "metadata": {
  "language_info": {
   "name": "python"
  }
 },
 "nbformat": 4,
 "nbformat_minor": 5
}
